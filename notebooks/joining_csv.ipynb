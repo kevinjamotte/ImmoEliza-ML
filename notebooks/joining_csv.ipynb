{
 "cells": [
  {
   "cell_type": "code",
   "execution_count": 1,
   "metadata": {},
   "outputs": [],
   "source": [
    "import pandas as pd  # For data manipulation and DataFrame handling\n",
    "import numpy as np  # For numerical operations and handling missing values\n",
    "from sklearn.model_selection import train_test_split  # For splitting data into training and testing sets\n",
    "from sklearn.preprocessing import StandardScaler  # For feature scaling (optional for decision trees)\n",
    "from sklearn.impute import SimpleImputer  # For handling missing values\n",
    "import matplotlib.pyplot as plt  # For plotting\n",
    "import seaborn as sns  # For more advanced plotting\n",
    "from sklearn.tree import plot_tree  # For visualizing the decision tree\n",
    "from sklearn.preprocessing import MinMaxScaler\n",
    "\n",
    "import csv\n",
    "import os"
   ]
  },
  {
   "cell_type": "code",
   "execution_count": 2,
   "metadata": {},
   "outputs": [
    {
     "name": "stderr",
     "output_type": "stream",
     "text": [
      "C:\\Users\\jerem\\AppData\\Local\\Temp\\ipykernel_2684\\489132727.py:5: DtypeWarning: Columns (39) have mixed types. Specify dtype option on import or set low_memory=False.\n",
      "  df = pd.read_csv(dataset)\n"
     ]
    },
    {
     "name": "stdout",
     "output_type": "stream",
     "text": [
      "0        6720\n",
      "1        3680\n",
      "2        1300\n",
      "3        3511\n",
      "4        3740\n",
      "         ... \n",
      "10811    3290\n",
      "10812    2430\n",
      "10813    2360\n",
      "10814    1200\n",
      "10815    1150\n",
      "Name: postal_code, Length: 10816, dtype: object\n",
      "0        6720\n",
      "1        3680\n",
      "2        1300\n",
      "3        3511\n",
      "4        3740\n",
      "         ... \n",
      "10811    3290\n",
      "10812    2430\n",
      "10813    2360\n",
      "10814    1200\n",
      "10815    1150\n",
      "Name: postal_code, Length: 10816, dtype: int64\n",
      "0        3000\n",
      "1        9950\n",
      "2        2140\n",
      "3        6838\n",
      "4        4460\n",
      "         ... \n",
      "40325    3290\n",
      "40326    2430\n",
      "40327    2360\n",
      "40328    1200\n",
      "40329    1150\n",
      "Name: postal_code, Length: 40330, dtype: int64\n"
     ]
    }
   ],
   "source": [
    "import pandas as pd\n",
    "\n",
    "# Load the datasets\n",
    "dataset = '../data/raw/dataset_province_municipality_code_large3.csv'\n",
    "df = pd.read_csv(dataset)\n",
    "dataset2 = '../data/raw/rescraped4.csv'\n",
    "df2 = pd.read_csv(dataset2)\n",
    "# Convert column names to lowercase\n",
    "df2 = df2.rename(str.lower, axis='columns')\n",
    "\n",
    "# Fill missing values and create new columns for property types\n",
    "df2['is_apartment'] = (df2['type'] == 'APARTMENT').astype(int)\n",
    "df2['is_house'] = (df2['type'] == 'HOUSE').astype(int)\n",
    "df2['frontages'] = df2['frontages'].fillna(2)\n",
    "df2.rename(columns={\n",
    "    'frontages': 'facades',\n",
    "    'postcode': 'postal_code',\n",
    "    'plot_surface': 'surfaceoftheplot',\n",
    "    'garden_surface': 'gardensurface',\n",
    "    'swimmingpool': 'pool',\n",
    "    'area': 'livingarea'\n",
    "}, inplace=True)\n",
    "print(df2['postal_code'])\n",
    "df2 = df2.dropna(subset=['postal_code'])\n",
    "\n",
    "# Now remove any letters from the 'postal_code' column\n",
    "df2['postal_code'] = df2['postal_code'].str.replace(r'[a-zA-Z]', '', regex=True)\n",
    "\n",
    "# Convert to integers\n",
    "df2['postal_code'] = df2['postal_code'].astype(int)\n",
    "print(df2['postal_code'])\n",
    "\n",
    "# Create binary columns based on state_of_building\n",
    "df2['apartment_block'] = (df2['type'] == 'APARTMENT_BLOCK').astype(int)\n",
    "df2['ground_floor'] = (df2['type'] == 'GROUND_FLOOR').astype(int)\n",
    "df2['country_cottage'] = (df2['type'] == 'COUNTRY_COTTAGE').astype(int)\n",
    "df2['mansion'] = (df2['type'] == 'MANSION').astype(int)\n",
    "df2['penthouse'] = (df2['type'] == 'PENTHOUSE').astype(int)\n",
    "df2['exceptional_property'] = (df2['type'] == 'EXCEPTIONAL_PROPERTY').astype(int)\n",
    "df2['kot'] = (df2['type'] == 'KOT').astype(int)\n",
    "df2['loft'] = (df2['type'] == 'LOFT').astype(int)\n",
    "df2['manor_house'] = (df2['type'] == 'MANOR_HOUSE').astype(int)\n",
    "df2['service_flat'] = (df2['type'] == 'SERVICE_FLAT').astype(int)\n",
    "df2['chalet'] = (df2['type'] == 'CHALET').astype(int)\n",
    "\n",
    "# Create binary columns based on state_of_building\n",
    "df2['as_new'] = (df2['state_of_building'] == 'AS_NEW').astype(int)\n",
    "df2['good'] = (df2['state_of_building'] == 'GOOD').astype(int)\n",
    "df2['just_renovated'] = (df2['state_of_building'] == 'JUST_RENOVATED').astype(int)\n",
    "df2['to_be_done_up'] = (df2['state_of_building'] == 'TO_BE_DONE_UP').astype(int)\n",
    "df2['to_renovate'] = (df2['state_of_building'] == 'TO_RENOVATE').astype(int)\n",
    "df2['to_restore'] = (df2['state_of_building'] == 'TO_RESTORE').astype(int)\n",
    "\n",
    "# Select relevant columns for df2\n",
    "columns_to_keep = ['bedrooms', 'postal_code', 'kitchen', 'facades', 'price',\n",
    "                   'furnished', 'terrace', 'fireplace', 'garden', 'gardensurface', 'pool',\n",
    "                   'livingarea', 'surfaceoftheplot',\n",
    "                   'apartment_block', 'ground_floor', 'country_cottage', 'mansion',\n",
    "                   'penthouse', 'exceptional_property', 'kot', 'loft', 'manor_house',\n",
    "                   'service_flat', 'chalet', 'as_new', 'good', 'just_renovated',\n",
    "                   'to_be_done_up', 'to_renovate', 'to_restore',\n",
    "                   'is_apartment', 'is_house']\n",
    "\n",
    "df2_selected = df2[columns_to_keep]\n",
    "\n",
    "# Stack (concatenate) df2 under df\n",
    "stacked_df = pd.concat([df, df2_selected], ignore_index=True)\n",
    "print(stacked_df['postal_code'])"
   ]
  },
  {
   "cell_type": "code",
   "execution_count": 3,
   "metadata": {},
   "outputs": [
    {
     "name": "stdout",
     "output_type": "stream",
     "text": [
      "Index(['name', 'zipCode', 'nisCode', 'province', 'main'], dtype='object')\n"
     ]
    },
    {
     "data": {
      "text/plain": [
       "(2721, 5)"
      ]
     },
     "execution_count": 3,
     "metadata": {},
     "output_type": "execute_result"
    }
   ],
   "source": [
    "communes = '../data/raw/cities.csv'\n",
    "df_communes = pd.read_csv(communes)\n",
    "print(df_communes.columns)\n",
    "df_communes.shape\n"
   ]
  },
  {
   "cell_type": "code",
   "execution_count": 4,
   "metadata": {},
   "outputs": [],
   "source": [
    "# Create dictionaries for lookup based on zipCode\n",
    "nis_dict = dict(zip(df_communes['zipCode'], df_communes['nisCode']))\n",
    "locality_dict = dict(zip(df_communes['zipCode'], df_communes['name']))\n",
    "province_dict = dict(zip(df_communes['zipCode'], df_communes['province']))\n",
    "\n",
    "# Map the dictionaries to create new columns in stacked_df\n",
    "stacked_df['municipality_code'] = stacked_df['postal_code'].map(nis_dict)  # Adds municipality_code\n",
    "stacked_df['locality'] = stacked_df['postal_code'].map(locality_dict)      # Adds locality\n",
    "stacked_df['province'] = stacked_df['postal_code'].map(province_dict)      # Adds province\n",
    "\n",
    "stacked_df.drop_duplicates(inplace=True)\n",
    "\n"
   ]
  },
  {
   "cell_type": "code",
   "execution_count": 5,
   "metadata": {},
   "outputs": [
    {
     "name": "stdout",
     "output_type": "stream",
     "text": [
      "Number of missing values: \n",
      "Unnamed: 0.3             9750\n",
      "Unnamed: 0.2            13442\n",
      "Unnamed: 0.1            15958\n",
      "Unnamed: 0              26599\n",
      "bedrooms                    0\n",
      "postal_code                 0\n",
      "kitchen                     0\n",
      "facades                     0\n",
      "price                       0\n",
      "furnished                   0\n",
      "terrace                     0\n",
      "fireplace                   0\n",
      "garden                      0\n",
      "gardensurface               0\n",
      "pool                        0\n",
      "livingarea                  0\n",
      "surfaceoftheplot            0\n",
      "municipality_code           0\n",
      "apartment_block             0\n",
      "ground_floor                0\n",
      "country_cottage             0\n",
      "mansion                     0\n",
      "penthouse                   0\n",
      "exceptional_property        0\n",
      "kot                         0\n",
      "loft                        0\n",
      "manor_house                 0\n",
      "service_flat                0\n",
      "chalet                      0\n",
      "as_new                      0\n",
      "good                        0\n",
      "just_renovated              0\n",
      "to_be_done_up               0\n",
      "to_renovate                 0\n",
      "to_restore                  0\n",
      "price_sqm               26599\n",
      "is_apartment                0\n",
      "is_house                    0\n",
      "locality                    0\n",
      "province                    0\n",
      "dtype: int64\n"
     ]
    }
   ],
   "source": [
    "# Drop rows with NaN in the 'postal_code' column\n",
    "stacked_df = stacked_df.dropna(subset=['livingarea'])\n",
    "stacked_df = stacked_df.dropna(subset=['municipality_code'])\n",
    "stacked_df = stacked_df.dropna(subset=['locality'])\n",
    "stacked_df = stacked_df.dropna(subset=['bedrooms'])\n",
    "stacked_df['gardensurface'] = stacked_df['gardensurface'].fillna(0)\n",
    "stacked_df['surfaceoftheplot'] = stacked_df['surfaceoftheplot'].fillna(0)\n",
    "stacked_df['bedrooms'] = stacked_df['bedrooms'].astype(int)\n",
    "stacked_df = stacked_df.drop_duplicates()\n",
    "\n",
    "missing_values = stacked_df.isna().sum()\n",
    "print(f\"Number of missing values: \\n{missing_values}\")"
   ]
  },
  {
   "cell_type": "code",
   "execution_count": 6,
   "metadata": {},
   "outputs": [],
   "source": [
    "stacked_df.to_csv('dataset_province_municipality_code_large4.csv')\n"
   ]
  },
  {
   "cell_type": "code",
   "execution_count": 7,
   "metadata": {},
   "outputs": [
    {
     "name": "stdout",
     "output_type": "stream",
     "text": [
      "Index(['Unnamed: 0.3', 'Unnamed: 0.2', 'Unnamed: 0.1', 'Unnamed: 0',\n",
      "       'bedrooms', 'postal_code', 'kitchen', 'facades', 'price', 'furnished',\n",
      "       'terrace', 'fireplace', 'garden', 'gardensurface', 'pool', 'livingarea',\n",
      "       'surfaceoftheplot', 'municipality_code', 'apartment_block',\n",
      "       'ground_floor', 'country_cottage', 'mansion', 'penthouse',\n",
      "       'exceptional_property', 'kot', 'loft', 'manor_house', 'service_flat',\n",
      "       'chalet', 'as_new', 'good', 'just_renovated', 'to_be_done_up',\n",
      "       'to_renovate', 'to_restore', 'price_sqm', 'is_apartment', 'is_house',\n",
      "       'locality', 'province'],\n",
      "      dtype='object')\n"
     ]
    }
   ],
   "source": [
    "print(stacked_df.columns)"
   ]
  },
  {
   "cell_type": "code",
   "execution_count": null,
   "metadata": {},
   "outputs": [],
   "source": []
  }
 ],
 "metadata": {
  "kernelspec": {
   "display_name": "Python 3",
   "language": "python",
   "name": "python3"
  },
  "language_info": {
   "codemirror_mode": {
    "name": "ipython",
    "version": 3
   },
   "file_extension": ".py",
   "mimetype": "text/x-python",
   "name": "python",
   "nbconvert_exporter": "python",
   "pygments_lexer": "ipython3",
   "version": "3.13.0"
  }
 },
 "nbformat": 4,
 "nbformat_minor": 2
}
