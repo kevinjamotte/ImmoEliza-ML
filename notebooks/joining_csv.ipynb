{
 "cells": [
  {
   "cell_type": "code",
   "execution_count": 1,
   "metadata": {},
   "outputs": [],
   "source": [
    "import pandas as pd  # For data manipulation and DataFrame handling\n",
    "import numpy as np  # For numerical operations and handling missing values\n",
    "from sklearn.model_selection import train_test_split  # For splitting data into training and testing sets\n",
    "from sklearn.preprocessing import StandardScaler  # For feature scaling (optional for decision trees)\n",
    "from sklearn.impute import SimpleImputer  # For handling missing values\n",
    "import matplotlib.pyplot as plt  # For plotting\n",
    "import seaborn as sns  # For more advanced plotting\n",
    "from sklearn.tree import plot_tree  # For visualizing the decision tree\n",
    "from sklearn.preprocessing import MinMaxScaler\n",
    "\n",
    "import csv\n",
    "import os"
   ]
  },
  {
   "cell_type": "code",
   "execution_count": 9,
   "metadata": {},
   "outputs": [
    {
     "name": "stdout",
     "output_type": "stream",
     "text": [
      "(10349, 41)\n",
      "Number of missing values in 'gardensurface': 0\n",
      "Number of missing or zero values in 'gardensurface': 0\n"
     ]
    }
   ],
   "source": [
    "dataset = '../data/raw/dataset_province_municipality_code_large.csv'\n",
    "df = pd.read_csv(dataset)\n",
    "df = df[df['garden'] == 1]\n",
    "print(df.shape)\n",
    "missing_count = df['gardensurface'].isnull().sum()\n",
    "print(f\"Number of missing values in 'gardensurface': {missing_count}\")\n",
    "missing_or_zero_count = df['gardensurface'].isnull() | (df['gardensurface'] == 0)\n",
    "total_count = missing_or_zero_count.sum()\n",
    "\n",
    "print(f\"Number of missing or zero values in 'gardensurface': {total_count}\")\n",
    "\n"
   ]
  },
  {
   "cell_type": "code",
   "execution_count": 2,
   "metadata": {},
   "outputs": [
    {
     "ename": "FileNotFoundError",
     "evalue": "[Errno 2] No such file or directory: '../data/raw/dataset_province_municipality_code_large3.csv'",
     "output_type": "error",
     "traceback": [
      "\u001b[1;31m---------------------------------------------------------------------------\u001b[0m",
      "\u001b[1;31mFileNotFoundError\u001b[0m                         Traceback (most recent call last)",
      "Cell \u001b[1;32mIn[2], line 5\u001b[0m\n\u001b[0;32m      3\u001b[0m \u001b[38;5;66;03m# Load the datasets\u001b[39;00m\n\u001b[0;32m      4\u001b[0m dataset \u001b[38;5;241m=\u001b[39m \u001b[38;5;124m'\u001b[39m\u001b[38;5;124m../data/raw/dataset_province_municipality_code_large3.csv\u001b[39m\u001b[38;5;124m'\u001b[39m\n\u001b[1;32m----> 5\u001b[0m df \u001b[38;5;241m=\u001b[39m \u001b[43mpd\u001b[49m\u001b[38;5;241;43m.\u001b[39;49m\u001b[43mread_csv\u001b[49m\u001b[43m(\u001b[49m\u001b[43mdataset\u001b[49m\u001b[43m)\u001b[49m\n\u001b[0;32m      6\u001b[0m dataset2 \u001b[38;5;241m=\u001b[39m \u001b[38;5;124m'\u001b[39m\u001b[38;5;124m../data/raw/rescraped4.csv\u001b[39m\u001b[38;5;124m'\u001b[39m\n\u001b[0;32m      7\u001b[0m df2 \u001b[38;5;241m=\u001b[39m pd\u001b[38;5;241m.\u001b[39mread_csv(dataset2)\n",
      "File \u001b[1;32mc:\\Users\\jerem\\AppData\\Local\\Programs\\Python\\Python313\\Lib\\site-packages\\pandas\\io\\parsers\\readers.py:1026\u001b[0m, in \u001b[0;36mread_csv\u001b[1;34m(filepath_or_buffer, sep, delimiter, header, names, index_col, usecols, dtype, engine, converters, true_values, false_values, skipinitialspace, skiprows, skipfooter, nrows, na_values, keep_default_na, na_filter, verbose, skip_blank_lines, parse_dates, infer_datetime_format, keep_date_col, date_parser, date_format, dayfirst, cache_dates, iterator, chunksize, compression, thousands, decimal, lineterminator, quotechar, quoting, doublequote, escapechar, comment, encoding, encoding_errors, dialect, on_bad_lines, delim_whitespace, low_memory, memory_map, float_precision, storage_options, dtype_backend)\u001b[0m\n\u001b[0;32m   1013\u001b[0m kwds_defaults \u001b[38;5;241m=\u001b[39m _refine_defaults_read(\n\u001b[0;32m   1014\u001b[0m     dialect,\n\u001b[0;32m   1015\u001b[0m     delimiter,\n\u001b[1;32m   (...)\u001b[0m\n\u001b[0;32m   1022\u001b[0m     dtype_backend\u001b[38;5;241m=\u001b[39mdtype_backend,\n\u001b[0;32m   1023\u001b[0m )\n\u001b[0;32m   1024\u001b[0m kwds\u001b[38;5;241m.\u001b[39mupdate(kwds_defaults)\n\u001b[1;32m-> 1026\u001b[0m \u001b[38;5;28;01mreturn\u001b[39;00m \u001b[43m_read\u001b[49m\u001b[43m(\u001b[49m\u001b[43mfilepath_or_buffer\u001b[49m\u001b[43m,\u001b[49m\u001b[43m \u001b[49m\u001b[43mkwds\u001b[49m\u001b[43m)\u001b[49m\n",
      "File \u001b[1;32mc:\\Users\\jerem\\AppData\\Local\\Programs\\Python\\Python313\\Lib\\site-packages\\pandas\\io\\parsers\\readers.py:620\u001b[0m, in \u001b[0;36m_read\u001b[1;34m(filepath_or_buffer, kwds)\u001b[0m\n\u001b[0;32m    617\u001b[0m _validate_names(kwds\u001b[38;5;241m.\u001b[39mget(\u001b[38;5;124m\"\u001b[39m\u001b[38;5;124mnames\u001b[39m\u001b[38;5;124m\"\u001b[39m, \u001b[38;5;28;01mNone\u001b[39;00m))\n\u001b[0;32m    619\u001b[0m \u001b[38;5;66;03m# Create the parser.\u001b[39;00m\n\u001b[1;32m--> 620\u001b[0m parser \u001b[38;5;241m=\u001b[39m \u001b[43mTextFileReader\u001b[49m\u001b[43m(\u001b[49m\u001b[43mfilepath_or_buffer\u001b[49m\u001b[43m,\u001b[49m\u001b[43m \u001b[49m\u001b[38;5;241;43m*\u001b[39;49m\u001b[38;5;241;43m*\u001b[39;49m\u001b[43mkwds\u001b[49m\u001b[43m)\u001b[49m\n\u001b[0;32m    622\u001b[0m \u001b[38;5;28;01mif\u001b[39;00m chunksize \u001b[38;5;129;01mor\u001b[39;00m iterator:\n\u001b[0;32m    623\u001b[0m     \u001b[38;5;28;01mreturn\u001b[39;00m parser\n",
      "File \u001b[1;32mc:\\Users\\jerem\\AppData\\Local\\Programs\\Python\\Python313\\Lib\\site-packages\\pandas\\io\\parsers\\readers.py:1620\u001b[0m, in \u001b[0;36mTextFileReader.__init__\u001b[1;34m(self, f, engine, **kwds)\u001b[0m\n\u001b[0;32m   1617\u001b[0m     \u001b[38;5;28mself\u001b[39m\u001b[38;5;241m.\u001b[39moptions[\u001b[38;5;124m\"\u001b[39m\u001b[38;5;124mhas_index_names\u001b[39m\u001b[38;5;124m\"\u001b[39m] \u001b[38;5;241m=\u001b[39m kwds[\u001b[38;5;124m\"\u001b[39m\u001b[38;5;124mhas_index_names\u001b[39m\u001b[38;5;124m\"\u001b[39m]\n\u001b[0;32m   1619\u001b[0m \u001b[38;5;28mself\u001b[39m\u001b[38;5;241m.\u001b[39mhandles: IOHandles \u001b[38;5;241m|\u001b[39m \u001b[38;5;28;01mNone\u001b[39;00m \u001b[38;5;241m=\u001b[39m \u001b[38;5;28;01mNone\u001b[39;00m\n\u001b[1;32m-> 1620\u001b[0m \u001b[38;5;28mself\u001b[39m\u001b[38;5;241m.\u001b[39m_engine \u001b[38;5;241m=\u001b[39m \u001b[38;5;28;43mself\u001b[39;49m\u001b[38;5;241;43m.\u001b[39;49m\u001b[43m_make_engine\u001b[49m\u001b[43m(\u001b[49m\u001b[43mf\u001b[49m\u001b[43m,\u001b[49m\u001b[43m \u001b[49m\u001b[38;5;28;43mself\u001b[39;49m\u001b[38;5;241;43m.\u001b[39;49m\u001b[43mengine\u001b[49m\u001b[43m)\u001b[49m\n",
      "File \u001b[1;32mc:\\Users\\jerem\\AppData\\Local\\Programs\\Python\\Python313\\Lib\\site-packages\\pandas\\io\\parsers\\readers.py:1880\u001b[0m, in \u001b[0;36mTextFileReader._make_engine\u001b[1;34m(self, f, engine)\u001b[0m\n\u001b[0;32m   1878\u001b[0m     \u001b[38;5;28;01mif\u001b[39;00m \u001b[38;5;124m\"\u001b[39m\u001b[38;5;124mb\u001b[39m\u001b[38;5;124m\"\u001b[39m \u001b[38;5;129;01mnot\u001b[39;00m \u001b[38;5;129;01min\u001b[39;00m mode:\n\u001b[0;32m   1879\u001b[0m         mode \u001b[38;5;241m+\u001b[39m\u001b[38;5;241m=\u001b[39m \u001b[38;5;124m\"\u001b[39m\u001b[38;5;124mb\u001b[39m\u001b[38;5;124m\"\u001b[39m\n\u001b[1;32m-> 1880\u001b[0m \u001b[38;5;28mself\u001b[39m\u001b[38;5;241m.\u001b[39mhandles \u001b[38;5;241m=\u001b[39m \u001b[43mget_handle\u001b[49m\u001b[43m(\u001b[49m\n\u001b[0;32m   1881\u001b[0m \u001b[43m    \u001b[49m\u001b[43mf\u001b[49m\u001b[43m,\u001b[49m\n\u001b[0;32m   1882\u001b[0m \u001b[43m    \u001b[49m\u001b[43mmode\u001b[49m\u001b[43m,\u001b[49m\n\u001b[0;32m   1883\u001b[0m \u001b[43m    \u001b[49m\u001b[43mencoding\u001b[49m\u001b[38;5;241;43m=\u001b[39;49m\u001b[38;5;28;43mself\u001b[39;49m\u001b[38;5;241;43m.\u001b[39;49m\u001b[43moptions\u001b[49m\u001b[38;5;241;43m.\u001b[39;49m\u001b[43mget\u001b[49m\u001b[43m(\u001b[49m\u001b[38;5;124;43m\"\u001b[39;49m\u001b[38;5;124;43mencoding\u001b[39;49m\u001b[38;5;124;43m\"\u001b[39;49m\u001b[43m,\u001b[49m\u001b[43m \u001b[49m\u001b[38;5;28;43;01mNone\u001b[39;49;00m\u001b[43m)\u001b[49m\u001b[43m,\u001b[49m\n\u001b[0;32m   1884\u001b[0m \u001b[43m    \u001b[49m\u001b[43mcompression\u001b[49m\u001b[38;5;241;43m=\u001b[39;49m\u001b[38;5;28;43mself\u001b[39;49m\u001b[38;5;241;43m.\u001b[39;49m\u001b[43moptions\u001b[49m\u001b[38;5;241;43m.\u001b[39;49m\u001b[43mget\u001b[49m\u001b[43m(\u001b[49m\u001b[38;5;124;43m\"\u001b[39;49m\u001b[38;5;124;43mcompression\u001b[39;49m\u001b[38;5;124;43m\"\u001b[39;49m\u001b[43m,\u001b[49m\u001b[43m \u001b[49m\u001b[38;5;28;43;01mNone\u001b[39;49;00m\u001b[43m)\u001b[49m\u001b[43m,\u001b[49m\n\u001b[0;32m   1885\u001b[0m \u001b[43m    \u001b[49m\u001b[43mmemory_map\u001b[49m\u001b[38;5;241;43m=\u001b[39;49m\u001b[38;5;28;43mself\u001b[39;49m\u001b[38;5;241;43m.\u001b[39;49m\u001b[43moptions\u001b[49m\u001b[38;5;241;43m.\u001b[39;49m\u001b[43mget\u001b[49m\u001b[43m(\u001b[49m\u001b[38;5;124;43m\"\u001b[39;49m\u001b[38;5;124;43mmemory_map\u001b[39;49m\u001b[38;5;124;43m\"\u001b[39;49m\u001b[43m,\u001b[49m\u001b[43m \u001b[49m\u001b[38;5;28;43;01mFalse\u001b[39;49;00m\u001b[43m)\u001b[49m\u001b[43m,\u001b[49m\n\u001b[0;32m   1886\u001b[0m \u001b[43m    \u001b[49m\u001b[43mis_text\u001b[49m\u001b[38;5;241;43m=\u001b[39;49m\u001b[43mis_text\u001b[49m\u001b[43m,\u001b[49m\n\u001b[0;32m   1887\u001b[0m \u001b[43m    \u001b[49m\u001b[43merrors\u001b[49m\u001b[38;5;241;43m=\u001b[39;49m\u001b[38;5;28;43mself\u001b[39;49m\u001b[38;5;241;43m.\u001b[39;49m\u001b[43moptions\u001b[49m\u001b[38;5;241;43m.\u001b[39;49m\u001b[43mget\u001b[49m\u001b[43m(\u001b[49m\u001b[38;5;124;43m\"\u001b[39;49m\u001b[38;5;124;43mencoding_errors\u001b[39;49m\u001b[38;5;124;43m\"\u001b[39;49m\u001b[43m,\u001b[49m\u001b[43m \u001b[49m\u001b[38;5;124;43m\"\u001b[39;49m\u001b[38;5;124;43mstrict\u001b[39;49m\u001b[38;5;124;43m\"\u001b[39;49m\u001b[43m)\u001b[49m\u001b[43m,\u001b[49m\n\u001b[0;32m   1888\u001b[0m \u001b[43m    \u001b[49m\u001b[43mstorage_options\u001b[49m\u001b[38;5;241;43m=\u001b[39;49m\u001b[38;5;28;43mself\u001b[39;49m\u001b[38;5;241;43m.\u001b[39;49m\u001b[43moptions\u001b[49m\u001b[38;5;241;43m.\u001b[39;49m\u001b[43mget\u001b[49m\u001b[43m(\u001b[49m\u001b[38;5;124;43m\"\u001b[39;49m\u001b[38;5;124;43mstorage_options\u001b[39;49m\u001b[38;5;124;43m\"\u001b[39;49m\u001b[43m,\u001b[49m\u001b[43m \u001b[49m\u001b[38;5;28;43;01mNone\u001b[39;49;00m\u001b[43m)\u001b[49m\u001b[43m,\u001b[49m\n\u001b[0;32m   1889\u001b[0m \u001b[43m\u001b[49m\u001b[43m)\u001b[49m\n\u001b[0;32m   1890\u001b[0m \u001b[38;5;28;01massert\u001b[39;00m \u001b[38;5;28mself\u001b[39m\u001b[38;5;241m.\u001b[39mhandles \u001b[38;5;129;01mis\u001b[39;00m \u001b[38;5;129;01mnot\u001b[39;00m \u001b[38;5;28;01mNone\u001b[39;00m\n\u001b[0;32m   1891\u001b[0m f \u001b[38;5;241m=\u001b[39m \u001b[38;5;28mself\u001b[39m\u001b[38;5;241m.\u001b[39mhandles\u001b[38;5;241m.\u001b[39mhandle\n",
      "File \u001b[1;32mc:\\Users\\jerem\\AppData\\Local\\Programs\\Python\\Python313\\Lib\\site-packages\\pandas\\io\\common.py:873\u001b[0m, in \u001b[0;36mget_handle\u001b[1;34m(path_or_buf, mode, encoding, compression, memory_map, is_text, errors, storage_options)\u001b[0m\n\u001b[0;32m    868\u001b[0m \u001b[38;5;28;01melif\u001b[39;00m \u001b[38;5;28misinstance\u001b[39m(handle, \u001b[38;5;28mstr\u001b[39m):\n\u001b[0;32m    869\u001b[0m     \u001b[38;5;66;03m# Check whether the filename is to be opened in binary mode.\u001b[39;00m\n\u001b[0;32m    870\u001b[0m     \u001b[38;5;66;03m# Binary mode does not support 'encoding' and 'newline'.\u001b[39;00m\n\u001b[0;32m    871\u001b[0m     \u001b[38;5;28;01mif\u001b[39;00m ioargs\u001b[38;5;241m.\u001b[39mencoding \u001b[38;5;129;01mand\u001b[39;00m \u001b[38;5;124m\"\u001b[39m\u001b[38;5;124mb\u001b[39m\u001b[38;5;124m\"\u001b[39m \u001b[38;5;129;01mnot\u001b[39;00m \u001b[38;5;129;01min\u001b[39;00m ioargs\u001b[38;5;241m.\u001b[39mmode:\n\u001b[0;32m    872\u001b[0m         \u001b[38;5;66;03m# Encoding\u001b[39;00m\n\u001b[1;32m--> 873\u001b[0m         handle \u001b[38;5;241m=\u001b[39m \u001b[38;5;28;43mopen\u001b[39;49m\u001b[43m(\u001b[49m\n\u001b[0;32m    874\u001b[0m \u001b[43m            \u001b[49m\u001b[43mhandle\u001b[49m\u001b[43m,\u001b[49m\n\u001b[0;32m    875\u001b[0m \u001b[43m            \u001b[49m\u001b[43mioargs\u001b[49m\u001b[38;5;241;43m.\u001b[39;49m\u001b[43mmode\u001b[49m\u001b[43m,\u001b[49m\n\u001b[0;32m    876\u001b[0m \u001b[43m            \u001b[49m\u001b[43mencoding\u001b[49m\u001b[38;5;241;43m=\u001b[39;49m\u001b[43mioargs\u001b[49m\u001b[38;5;241;43m.\u001b[39;49m\u001b[43mencoding\u001b[49m\u001b[43m,\u001b[49m\n\u001b[0;32m    877\u001b[0m \u001b[43m            \u001b[49m\u001b[43merrors\u001b[49m\u001b[38;5;241;43m=\u001b[39;49m\u001b[43merrors\u001b[49m\u001b[43m,\u001b[49m\n\u001b[0;32m    878\u001b[0m \u001b[43m            \u001b[49m\u001b[43mnewline\u001b[49m\u001b[38;5;241;43m=\u001b[39;49m\u001b[38;5;124;43m\"\u001b[39;49m\u001b[38;5;124;43m\"\u001b[39;49m\u001b[43m,\u001b[49m\n\u001b[0;32m    879\u001b[0m \u001b[43m        \u001b[49m\u001b[43m)\u001b[49m\n\u001b[0;32m    880\u001b[0m     \u001b[38;5;28;01melse\u001b[39;00m:\n\u001b[0;32m    881\u001b[0m         \u001b[38;5;66;03m# Binary mode\u001b[39;00m\n\u001b[0;32m    882\u001b[0m         handle \u001b[38;5;241m=\u001b[39m \u001b[38;5;28mopen\u001b[39m(handle, ioargs\u001b[38;5;241m.\u001b[39mmode)\n",
      "\u001b[1;31mFileNotFoundError\u001b[0m: [Errno 2] No such file or directory: '../data/raw/dataset_province_municipality_code_large3.csv'"
     ]
    }
   ],
   "source": [
    "import pandas as pd\n",
    "\n",
    "# Load the datasets\n",
    "dataset = '../data/raw/dataset_province_municipality_code_large3.csv'\n",
    "df = pd.read_csv(dataset)\n",
    "dataset2 = '../data/raw/rescraped4.csv'\n",
    "df2 = pd.read_csv(dataset2)\n",
    "# Convert column names to lowercase\n",
    "df2 = df2.rename(str.lower, axis='columns')\n",
    "\n",
    "# Fill missing values and create new columns for property types\n",
    "df2['is_apartment'] = (df2['type'] == 'APARTMENT').astype(int)\n",
    "df2['is_house'] = (df2['type'] == 'HOUSE').astype(int)\n",
    "df2['frontages'] = df2['frontages'].fillna(2)\n",
    "df2.rename(columns={\n",
    "    'frontages': 'facades',\n",
    "    'postcode': 'postal_code',\n",
    "    'plot_surface': 'surfaceoftheplot',\n",
    "    'garden_surface': 'gardensurface',\n",
    "    'swimmingpool': 'pool',\n",
    "    'area': 'livingarea'\n",
    "}, inplace=True)\n",
    "print(df2['postal_code'])\n",
    "df2 = df2.dropna(subset=['postal_code'])\n",
    "\n",
    "# Now remove any letters from the 'postal_code' column\n",
    "df2['postal_code'] = df2['postal_code'].str.replace(r'[a-zA-Z]', '', regex=True)\n",
    "\n",
    "# Convert to integers\n",
    "df2['postal_code'] = df2['postal_code'].astype(int)\n",
    "print(df2['postal_code'])\n",
    "\n",
    "# Create binary columns based on state_of_building\n",
    "df2['apartment_block'] = (df2['type'] == 'APARTMENT_BLOCK').astype(int)\n",
    "df2['ground_floor'] = (df2['type'] == 'GROUND_FLOOR').astype(int)\n",
    "df2['country_cottage'] = (df2['type'] == 'COUNTRY_COTTAGE').astype(int)\n",
    "df2['mansion'] = (df2['type'] == 'MANSION').astype(int)\n",
    "df2['penthouse'] = (df2['type'] == 'PENTHOUSE').astype(int)\n",
    "df2['exceptional_property'] = (df2['type'] == 'EXCEPTIONAL_PROPERTY').astype(int)\n",
    "df2['kot'] = (df2['type'] == 'KOT').astype(int)\n",
    "df2['loft'] = (df2['type'] == 'LOFT').astype(int)\n",
    "df2['manor_house'] = (df2['type'] == 'MANOR_HOUSE').astype(int)\n",
    "df2['service_flat'] = (df2['type'] == 'SERVICE_FLAT').astype(int)\n",
    "df2['chalet'] = (df2['type'] == 'CHALET').astype(int)\n",
    "\n",
    "# Create binary columns based on state_of_building\n",
    "df2['as_new'] = (df2['state_of_building'] == 'AS_NEW').astype(int)\n",
    "df2['good'] = (df2['state_of_building'] == 'GOOD').astype(int)\n",
    "df2['just_renovated'] = (df2['state_of_building'] == 'JUST_RENOVATED').astype(int)\n",
    "df2['to_be_done_up'] = (df2['state_of_building'] == 'TO_BE_DONE_UP').astype(int)\n",
    "df2['to_renovate'] = (df2['state_of_building'] == 'TO_RENOVATE').astype(int)\n",
    "df2['to_restore'] = (df2['state_of_building'] == 'TO_RESTORE').astype(int)\n",
    "\n",
    "# Select relevant columns for df2\n",
    "columns_to_keep = ['bedrooms', 'postal_code', 'kitchen', 'facades', 'price',\n",
    "                   'furnished', 'terrace', 'fireplace', 'garden', 'gardensurface', 'pool',\n",
    "                   'livingarea', 'surfaceoftheplot',\n",
    "                   'apartment_block', 'ground_floor', 'country_cottage', 'mansion',\n",
    "                   'penthouse', 'exceptional_property', 'kot', 'loft', 'manor_house',\n",
    "                   'service_flat', 'chalet', 'as_new', 'good', 'just_renovated',\n",
    "                   'to_be_done_up', 'to_renovate', 'to_restore',\n",
    "                   'is_apartment', 'is_house']\n",
    "\n",
    "df2_selected = df2[columns_to_keep]\n",
    "\n",
    "# Stack (concatenate) df2 under df\n",
    "stacked_df = pd.concat([df, df2_selected], ignore_index=True)\n",
    "print(stacked_df['postal_code'])"
   ]
  },
  {
   "cell_type": "code",
   "execution_count": null,
   "metadata": {},
   "outputs": [
    {
     "name": "stdout",
     "output_type": "stream",
     "text": [
      "Index(['name', 'zipCode', 'nisCode', 'province', 'main'], dtype='object')\n"
     ]
    },
    {
     "data": {
      "text/plain": [
       "(2721, 5)"
      ]
     },
     "execution_count": 3,
     "metadata": {},
     "output_type": "execute_result"
    }
   ],
   "source": [
    "communes = '../data/raw/cities.csv'\n",
    "df_communes = pd.read_csv(communes)\n",
    "print(df_communes.columns)\n",
    "df_communes.shape\n"
   ]
  },
  {
   "cell_type": "code",
   "execution_count": null,
   "metadata": {},
   "outputs": [],
   "source": [
    "# Create dictionaries for lookup based on zipCode\n",
    "nis_dict = dict(zip(df_communes['zipCode'], df_communes['nisCode']))\n",
    "locality_dict = dict(zip(df_communes['zipCode'], df_communes['name']))\n",
    "province_dict = dict(zip(df_communes['zipCode'], df_communes['province']))\n",
    "\n",
    "# Map the dictionaries to create new columns in stacked_df\n",
    "stacked_df['municipality_code'] = stacked_df['postal_code'].map(nis_dict)  # Adds municipality_code\n",
    "stacked_df['locality'] = stacked_df['postal_code'].map(locality_dict)      # Adds locality\n",
    "stacked_df['province'] = stacked_df['postal_code'].map(province_dict)      # Adds province\n",
    "\n",
    "stacked_df.drop_duplicates(inplace=True)\n",
    "\n"
   ]
  },
  {
   "cell_type": "code",
   "execution_count": null,
   "metadata": {},
   "outputs": [
    {
     "name": "stdout",
     "output_type": "stream",
     "text": [
      "Number of missing values: \n",
      "Unnamed: 0.3             9750\n",
      "Unnamed: 0.2            13442\n",
      "Unnamed: 0.1            15958\n",
      "Unnamed: 0              26599\n",
      "bedrooms                    0\n",
      "postal_code                 0\n",
      "kitchen                     0\n",
      "facades                     0\n",
      "price                       0\n",
      "furnished                   0\n",
      "terrace                     0\n",
      "fireplace                   0\n",
      "garden                      0\n",
      "gardensurface               0\n",
      "pool                        0\n",
      "livingarea                  0\n",
      "surfaceoftheplot            0\n",
      "municipality_code           0\n",
      "apartment_block             0\n",
      "ground_floor                0\n",
      "country_cottage             0\n",
      "mansion                     0\n",
      "penthouse                   0\n",
      "exceptional_property        0\n",
      "kot                         0\n",
      "loft                        0\n",
      "manor_house                 0\n",
      "service_flat                0\n",
      "chalet                      0\n",
      "as_new                      0\n",
      "good                        0\n",
      "just_renovated              0\n",
      "to_be_done_up               0\n",
      "to_renovate                 0\n",
      "to_restore                  0\n",
      "price_sqm               26599\n",
      "is_apartment                0\n",
      "is_house                    0\n",
      "locality                    0\n",
      "province                    0\n",
      "dtype: int64\n"
     ]
    }
   ],
   "source": [
    "# Drop rows with NaN in the 'postal_code' column\n",
    "stacked_df = stacked_df.dropna(subset=['livingarea'])\n",
    "stacked_df = stacked_df.dropna(subset=['municipality_code'])\n",
    "stacked_df = stacked_df.dropna(subset=['locality'])\n",
    "stacked_df = stacked_df.dropna(subset=['bedrooms'])\n",
    "stacked_df['gardensurface'] = stacked_df['gardensurface'].fillna(0)\n",
    "stacked_df['surfaceoftheplot'] = stacked_df['surfaceoftheplot'].fillna(0)\n",
    "stacked_df['bedrooms'] = stacked_df['bedrooms'].astype(int)\n",
    "stacked_df = stacked_df.drop_duplicates()\n",
    "\n",
    "missing_values = stacked_df.isna().sum()\n",
    "print(f\"Number of missing values: \\n{missing_values}\")"
   ]
  },
  {
   "cell_type": "code",
   "execution_count": null,
   "metadata": {},
   "outputs": [],
   "source": [
    "stacked_df.to_csv('dataset_province_municipality_code_large4.csv')\n"
   ]
  },
  {
   "cell_type": "code",
   "execution_count": null,
   "metadata": {},
   "outputs": [
    {
     "name": "stdout",
     "output_type": "stream",
     "text": [
      "Index(['Unnamed: 0.3', 'Unnamed: 0.2', 'Unnamed: 0.1', 'Unnamed: 0',\n",
      "       'bedrooms', 'postal_code', 'kitchen', 'facades', 'price', 'furnished',\n",
      "       'terrace', 'fireplace', 'garden', 'gardensurface', 'pool', 'livingarea',\n",
      "       'surfaceoftheplot', 'municipality_code', 'apartment_block',\n",
      "       'ground_floor', 'country_cottage', 'mansion', 'penthouse',\n",
      "       'exceptional_property', 'kot', 'loft', 'manor_house', 'service_flat',\n",
      "       'chalet', 'as_new', 'good', 'just_renovated', 'to_be_done_up',\n",
      "       'to_renovate', 'to_restore', 'price_sqm', 'is_apartment', 'is_house',\n",
      "       'locality', 'province'],\n",
      "      dtype='object')\n"
     ]
    }
   ],
   "source": [
    "print(stacked_df.columns)"
   ]
  },
  {
   "cell_type": "code",
   "execution_count": null,
   "metadata": {},
   "outputs": [],
   "source": []
  }
 ],
 "metadata": {
  "kernelspec": {
   "display_name": "Python 3",
   "language": "python",
   "name": "python3"
  },
  "language_info": {
   "codemirror_mode": {
    "name": "ipython",
    "version": 3
   },
   "file_extension": ".py",
   "mimetype": "text/x-python",
   "name": "python",
   "nbconvert_exporter": "python",
   "pygments_lexer": "ipython3",
   "version": "3.13.0"
  }
 },
 "nbformat": 4,
 "nbformat_minor": 2
}
