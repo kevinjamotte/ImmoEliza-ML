{
 "cells": [
  {
   "cell_type": "code",
   "execution_count": 1,
   "metadata": {},
   "outputs": [],
   "source": [
    "import pandas as pd  # For data manipulation and DataFrame handling\n",
    "import numpy as np  # For numerical operations and handling missing values\n",
    "from sklearn.model_selection import train_test_split  # For splitting data into training and testing sets\n",
    "from sklearn.preprocessing import StandardScaler  # For feature scaling (optional for decision trees)\n",
    "from sklearn.impute import SimpleImputer  # For handling missing values\n",
    "import matplotlib.pyplot as plt  # For plotting\n",
    "import seaborn as sns  # For more advanced plotting\n",
    "from sklearn.tree import plot_tree  # For visualizing the decision tree\n"
   ]
  }
 ],
 "metadata": {
  "kernelspec": {
   "display_name": "Python 3",
   "language": "python",
   "name": "python3"
  },
  "language_info": {
   "codemirror_mode": {
    "name": "ipython",
    "version": 3
   },
   "file_extension": ".py",
   "mimetype": "text/x-python",
   "name": "python",
   "nbconvert_exporter": "python",
   "pygments_lexer": "ipython3",
   "version": "3.13.0"
  }
 },
 "nbformat": 4,
 "nbformat_minor": 2
}
