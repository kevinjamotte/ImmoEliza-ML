{
 "cells": [
  {
   "cell_type": "code",
   "execution_count": 68,
   "metadata": {},
   "outputs": [],
   "source": [
    "import pandas as pd  # For data manipulation and DataFrame handling\n",
    "import numpy as np  # For numerical operations and handling missing values\n",
    "from sklearn.model_selection import train_test_split  # For splitting data into training and testing sets\n",
    "from sklearn.preprocessing import StandardScaler  # For feature scaling (optional for decision trees)\n",
    "from sklearn.impute import SimpleImputer  # For handling missing values\n",
    "import matplotlib.pyplot as plt  # For plotting\n",
    "import seaborn as sns  # For more advanced plotting\n",
    "from sklearn.tree import plot_tree  # For visualizing the decision tree\n",
    "from sklearn.preprocessing import MinMaxScaler\n",
    "\n",
    "import csv\n",
    "import os"
   ]
  },
  {
   "cell_type": "code",
   "execution_count": 69,
   "metadata": {},
   "outputs": [
    {
     "name": "stdout",
     "output_type": "stream",
     "text": [
      "   Unnamed: 0  bedrooms  postal_code  kitchen  facades     price  furnished  \\\n",
      "0           0         2         3000        1        2  299500.0          0   \n",
      "1           1         3         9950        1        2  360000.0          0   \n",
      "2           2         1         2140        1        2  145000.0          0   \n",
      "3           3         5         6838        1        2  149500.0          0   \n",
      "4           4         2         4460        1        2  179000.0          0   \n",
      "\n",
      "   terrace  fireplace  garden  ...  chalet  as_new  good  just_renovated  \\\n",
      "0        0          0       1  ...       0       0     0               0   \n",
      "1        0          0       0  ...       0       0     0               1   \n",
      "2        0          0       0  ...       0       0     1               0   \n",
      "3        1          0       1  ...       0       0     0               0   \n",
      "4        0          0       1  ...       0       0     0               0   \n",
      "\n",
      "   to_be_done_up  to_renovate  to_restore    price_sqm  is_apartment  is_house  \n",
      "0              1            0           0  4991.666667             1         0  \n",
      "1              0            0           0  2647.058824             0         1  \n",
      "2              0            0           0  2457.627119             1         0  \n",
      "3              0            1           0   958.333333             0         1  \n",
      "4              0            1           0  1185.430464             0         1  \n",
      "\n",
      "[5 rows x 35 columns]\n"
     ]
    }
   ],
   "source": [
    "#Opening the dataset\n",
    "dataset = '../data/raw/ImmoEliza_dataset_no_nan.csv'\n",
    "df = pd.read_csv(dataset)\n",
    "df.isnull().sum()\n",
    "df['municipality_code'] = df['municipality_code'].astype('int')\n",
    "df['facades'] = df['facades'].astype('int')\n",
    "\n",
    "print(df.head())"
   ]
  },
  {
   "cell_type": "code",
   "execution_count": 70,
   "metadata": {},
   "outputs": [
    {
     "name": "stdout",
     "output_type": "stream",
     "text": [
      "Index(['name', 'zipCode', 'nisCode', 'province', 'main'], dtype='object')\n"
     ]
    },
    {
     "data": {
      "text/plain": [
       "(2721, 5)"
      ]
     },
     "execution_count": 70,
     "metadata": {},
     "output_type": "execute_result"
    }
   ],
   "source": [
    "communes = '../data/raw/cities.csv'\n",
    "df_communes = pd.read_csv(communes)\n",
    "print(df_communes.columns)\n",
    "df_communes.shape"
   ]
  },
  {
   "cell_type": "code",
   "execution_count": null,
   "metadata": {},
   "outputs": [
    {
     "name": "stdout",
     "output_type": "stream",
     "text": [
      "   Unnamed: 0  bedrooms  postal_code  kitchen  facades     price  furnished  \\\n",
      "0           0         2         3000        1        2  299500.0          0   \n",
      "1           1         3         9950        1        2  360000.0          0   \n",
      "2           2         1         2140        1        2  145000.0          0   \n",
      "3           3         5         6838        1        2  149500.0          0   \n",
      "4           4         2         4460        1        2  179000.0          0   \n",
      "\n",
      "   terrace  fireplace  garden  ...  good  just_renovated  to_be_done_up  \\\n",
      "0        0          0       1  ...     0               0              1   \n",
      "1        0          0       0  ...     0               1              0   \n",
      "2        0          0       0  ...     1               0              0   \n",
      "3        1          0       1  ...     0               0              0   \n",
      "4        0          0       1  ...     0               0              0   \n",
      "\n",
      "   to_renovate  to_restore    price_sqm  is_apartment  is_house    locality  \\\n",
      "0            0           0  4991.666667             1         0      Leuven   \n",
      "1            0           0  2647.058824             0         1  Waarschoot   \n",
      "2            0           0  2457.627119             1         0  Borgerhout   \n",
      "3            1           0   958.333333             0         1     Corbion   \n",
      "4            1           0  1185.430464             0         1     Velroux   \n",
      "\n",
      "          province  \n",
      "0   Vlaams-Brabant  \n",
      "1  Oost-Vlaanderen  \n",
      "2        Antwerpen  \n",
      "3        Luxemburg  \n",
      "4             Luik  \n",
      "\n",
      "[5 rows x 37 columns]\n",
      "(12665, 37)\n"
     ]
    }
   ],
   "source": [
    "\n",
    "# Create a dictionary from df_communes for faster lookup for both city localitys and provinces\n",
    "communes_dict = dict(zip(df_communes['zipCode'], df_communes['name']))\n",
    "provinces_dict = dict(zip(df_communes['zipCode'], df_communes['province']))  # Assuming column 'province' contains the province localitys\n",
    "\n",
    "# Add new columns 'locality' and 'province' to df\n",
    "df['locality'] = None  # Initialize the new column with None\n",
    "df['province'] = None  # Initialize the province column with None\n",
    "\n",
    "\n",
    "# Loop through each row in df\n",
    "for index, row in df.iterrows():\n",
    "    municipality_code = row['postal_code']  # Get the municipality code\n",
    "    # Check if the municipality_code exists in the communes dictionary for city localitys\n",
    "    if municipality_code in communes_dict:\n",
    "        # Assign the corresponding entity locality to the 'locality' column\n",
    "        df.at[index, 'locality'] = communes_dict[municipality_code]\n",
    "        # Assign the corresponding province locality to the 'province' column\n",
    "        df.at[index, 'province'] = provinces_dict[municipality_code]\n",
    "\n",
    "\n",
    "\n",
    "# Display the updated DataFrame\n",
    "print(df.head())\n",
    "\n",
    "\n",
    "print(df.shape)\n",
    "#df.to_csv('dataset_province_municipality_code.csv', index=False)  "
   ]
  },
  {
   "cell_type": "code",
   "execution_count": 72,
   "metadata": {},
   "outputs": [],
   "source": [
    "import openpyxl\n",
    "revenus = '../data/raw/revenus.xlsx'\n",
    "dfrevenus = pd.read_excel(revenus, engine='openpyxl')\n",
    "\n",
    "# Assuming dfrevenus is the DataFrame containing your data\n",
    "dfrevenus['Average_Income_Per_Citizen'] = dfrevenus['MS_TOT_NET_INC'] / dfrevenus['MS_TOT_RESIDENTS']\n",
    "\n",
    "# Filter for the year 2022\n",
    "df_2022 = dfrevenus[dfrevenus['CD_YEAR'] == 2022]\n",
    "\n",
    "# Group by 'CD_MUNTY_REFNIS' and calculate the average income per citizen for each municipality\n",
    "income_municipality = df_2022.groupby('CD_MUNTY_REFNIS').agg({\n",
    "    'MS_TOT_NET_INC': 'sum',  # Total net income for the municipality\n",
    "    'MS_TOT_RESIDENTS': 'sum',  # Total number of residents in the municipality\n",
    "}).reset_index()\n",
    "\n",
    "# Calculate the average income per citizen for each municipality\n",
    "income_municipality['Average_Income_Per_Citizen'] = income_municipality['MS_TOT_NET_INC'] / income_municipality['MS_TOT_RESIDENTS']\n",
    "\n",
    "income_municipality.to_csv('income_municipality.csv', index=False) \n",
    "\n",
    "df = df.merge(\n",
    "    income_municipality[['CD_MUNTY_REFNIS', 'Average_Income_Per_Citizen']],\n",
    "    left_on='municipality_code',\n",
    "    right_on='CD_MUNTY_REFNIS',\n",
    "    how='left'\n",
    ")\n"
   ]
  },
  {
   "cell_type": "code",
   "execution_count": 73,
   "metadata": {},
   "outputs": [
    {
     "name": "stdout",
     "output_type": "stream",
     "text": [
      "locality\n",
      "Westkapelle    785\n",
      "Antwerpen      348\n",
      "Zandvoorde     260\n",
      "Gent           234\n",
      "Brussel        173\n",
      "              ... \n",
      "Evegnée          1\n",
      "Neigem           1\n",
      "Moresnet         1\n",
      "Châtelineau      1\n",
      "Roux             1\n",
      "Name: count, Length: 840, dtype: int64 postal_code\n",
      "8300    785\n",
      "8400    260\n",
      "9000    234\n",
      "1000    173\n",
      "1180    165\n",
      "       ... \n",
      "1982      1\n",
      "3054      1\n",
      "1852      1\n",
      "4560      1\n",
      "6044      1\n",
      "Name: count, Length: 852, dtype: int64 municipality_code\n",
      "11002    913\n",
      "31043    869\n",
      "44021    424\n",
      "35013    260\n",
      "31005    214\n",
      "        ... \n",
      "92045      1\n",
      "84016      1\n",
      "62026      1\n",
      "85007      1\n",
      "82036      1\n",
      "Name: count, Length: 551, dtype: int64\n"
     ]
    }
   ],
   "source": [
    "# Get the value counts for the 'locality' column\n",
    "name_counts = df['locality'].value_counts()\n",
    "zip_counts = df['postal_code'].value_counts()\n",
    "municipality_counts = df['municipality_code'].value_counts()\n",
    "# Display the result\n",
    "print(name_counts, zip_counts, municipality_counts)\n"
   ]
  },
  {
   "cell_type": "code",
   "execution_count": 74,
   "metadata": {},
   "outputs": [],
   "source": [
    "\n",
    "from sklearn.preprocessing import StandardScaler\n",
    "import pandas as pd\n",
    "\n",
    "# List of numerical columns (adjust as needed)\n",
    "numerical_columns = ['bedrooms', 'price', 'livingarea', 'surfaceoftheplot', 'gardensurface', 'facades', 'Average_Income_Per_Citizen']\n",
    "\n",
    "# Initialize StandardScaler\n",
    "scaler = StandardScaler()\n",
    "\n",
    "# Apply standardization\n",
    "df[numerical_columns] = scaler.fit_transform(df[numerical_columns])\n"
   ]
  },
  {
   "cell_type": "code",
   "execution_count": 75,
   "metadata": {},
   "outputs": [
    {
     "data": {
      "text/plain": [
       "\"\\nfrom sklearn.preprocessing import MinMaxScaler\\nimport pandas as pd\\n\\n# List of numerical columns (adjust as needed)\\nnumerical_columns = ['bedrooms', 'price', 'livingarea', 'surfaceoftheplot', 'gardensurface', 'facades', 'Average_Income_Per_Citizen']\\n\\n# Initialize MinMaxScaler\\nscaler = MinMaxScaler()\\n\\n# Apply normalization\\ndf[numerical_columns] = scaler.fit_transform(df[numerical_columns])\\n\\n# Check the result\\nprint(df.head())\\n\""
      ]
     },
     "execution_count": 75,
     "metadata": {},
     "output_type": "execute_result"
    }
   ],
   "source": [
    "'''\n",
    "from sklearn.preprocessing import MinMaxScaler\n",
    "import pandas as pd\n",
    "\n",
    "# List of numerical columns (adjust as needed)\n",
    "numerical_columns = ['bedrooms', 'price', 'livingarea', 'surfaceoftheplot', 'gardensurface', 'facades', 'Average_Income_Per_Citizen']\n",
    "\n",
    "# Initialize MinMaxScaler\n",
    "scaler = MinMaxScaler()\n",
    "\n",
    "# Apply normalization\n",
    "df[numerical_columns] = scaler.fit_transform(df[numerical_columns])\n",
    "\n",
    "# Check the result\n",
    "print(df.head())\n",
    "'''"
   ]
  },
  {
   "cell_type": "code",
   "execution_count": 76,
   "metadata": {},
   "outputs": [
    {
     "data": {
      "text/plain": [
       "Index(['Unnamed: 0', 'bedrooms', 'postal_code', 'kitchen', 'facades', 'price',\n",
       "       'furnished', 'terrace', 'fireplace', 'garden', 'gardensurface', 'pool',\n",
       "       'livingarea', 'surfaceoftheplot', 'municipality_code',\n",
       "       'apartment_block', 'ground_floor', 'country_cottage', 'mansion',\n",
       "       'penthouse', 'exceptional_property', 'kot', 'loft', 'manor_house',\n",
       "       'service_flat', 'chalet', 'as_new', 'good', 'just_renovated',\n",
       "       'to_be_done_up', 'to_renovate', 'to_restore', 'price_sqm',\n",
       "       'is_apartment', 'is_house', 'locality', 'province', 'CD_MUNTY_REFNIS',\n",
       "       'Average_Income_Per_Citizen'],\n",
       "      dtype='object')"
      ]
     },
     "execution_count": 76,
     "metadata": {},
     "output_type": "execute_result"
    }
   ],
   "source": [
    "df.columns"
   ]
  },
  {
   "cell_type": "code",
   "execution_count": 77,
   "metadata": {},
   "outputs": [
    {
     "data": {
      "text/plain": [
       "'\\n# Filter out municipality codes\\nmunicipality_code_counts = df[\\'municipality_code\\'].value_counts()\\nvalid_municipality_codes = municipality_code_counts[municipality_code_counts >= 15].index\\nprint(f\"Original DataFrame shape: {df.shape}\")\\n# Create a filtered DataFrame\\ndf = df[df[\\'municipality_code\\'].isin(valid_municipality_codes)]\\n\\n# Print the result\\nprint(f\"Filtered DataFrame shape: {df.shape}\")\\n'"
      ]
     },
     "execution_count": 77,
     "metadata": {},
     "output_type": "execute_result"
    }
   ],
   "source": [
    "'''\n",
    "# Filter out municipality codes\n",
    "municipality_code_counts = df['municipality_code'].value_counts()\n",
    "valid_municipality_codes = municipality_code_counts[municipality_code_counts >= 15].index\n",
    "print(f\"Original DataFrame shape: {df.shape}\")\n",
    "# Create a filtered DataFrame\n",
    "df = df[df['municipality_code'].isin(valid_municipality_codes)]\n",
    "\n",
    "# Print the result\n",
    "print(f\"Filtered DataFrame shape: {df.shape}\")\n",
    "'''"
   ]
  },
  {
   "cell_type": "code",
   "execution_count": 78,
   "metadata": {},
   "outputs": [
    {
     "name": "stdout",
     "output_type": "stream",
     "text": [
      "Original DataFrame shape: (12665, 39)\n",
      "Original DataFrame shape: (8841, 39)\n"
     ]
    }
   ],
   "source": [
    "\n",
    "# Filter out postal codes\n",
    "postal_code_counts = df['postal_code'].value_counts()\n",
    "valid_postal_codes = postal_code_counts[postal_code_counts >= 20].index\n",
    "print(f\"Original DataFrame shape: {df.shape}\")\n",
    "# Create a filtered DataFrame\n",
    "df = df[df['postal_code'].isin(valid_postal_codes)]\n",
    "\n",
    "# Print the result\n",
    "print(f\"Original DataFrame shape: {df.shape}\")\n"
   ]
  },
  {
   "cell_type": "code",
   "execution_count": 79,
   "metadata": {},
   "outputs": [
    {
     "data": {
      "text/plain": [
       "'\\n# Filter out names\\nname_counts = df[\\'name\\'].value_counts()\\nvalid_names = name_counts[name_counts >= 20].index\\nprint(f\"Original DataFrame shape: {df.shape}\")\\n# Create a filtered DataFrame\\ndf = df[df[\\'name\\'].isin(valid_names)]\\n\\n# Print the result\\nprint(f\"Original DataFrame shape: {df.shape}\")\\n'"
      ]
     },
     "execution_count": 79,
     "metadata": {},
     "output_type": "execute_result"
    }
   ],
   "source": [
    "'''\n",
    "# Filter out names\n",
    "name_counts = df['name'].value_counts()\n",
    "valid_names = name_counts[name_counts >= 20].index\n",
    "print(f\"Original DataFrame shape: {df.shape}\")\n",
    "# Create a filtered DataFrame\n",
    "df = df[df['name'].isin(valid_names)]\n",
    "\n",
    "# Print the result\n",
    "print(f\"Original DataFrame shape: {df.shape}\")\n",
    "'''"
   ]
  },
  {
   "cell_type": "code",
   "execution_count": 80,
   "metadata": {},
   "outputs": [
    {
     "data": {
      "text/plain": [
       "Index(['Unnamed: 0', 'bedrooms', 'postal_code', 'kitchen', 'facades', 'price',\n",
       "       'furnished', 'terrace', 'fireplace', 'garden', 'gardensurface', 'pool',\n",
       "       'livingarea', 'surfaceoftheplot', 'municipality_code',\n",
       "       'apartment_block', 'ground_floor', 'country_cottage', 'mansion',\n",
       "       'penthouse', 'exceptional_property', 'kot', 'loft', 'manor_house',\n",
       "       'service_flat', 'chalet', 'as_new', 'good', 'just_renovated',\n",
       "       'to_be_done_up', 'to_renovate', 'to_restore', 'price_sqm',\n",
       "       'is_apartment', 'is_house', 'locality', 'province', 'CD_MUNTY_REFNIS',\n",
       "       'Average_Income_Per_Citizen'],\n",
       "      dtype='object')"
      ]
     },
     "execution_count": 80,
     "metadata": {},
     "output_type": "execute_result"
    }
   ],
   "source": [
    "df.columns"
   ]
  },
  {
   "cell_type": "code",
   "execution_count": 81,
   "metadata": {},
   "outputs": [],
   "source": [
    "df.drop(['price_sqm'], axis=1, inplace=True)\n",
    "df.drop(['Unnamed: 0'], axis=1, inplace=True)\n",
    "df.drop(['kot'], axis=1, inplace=True)\n",
    "df.drop(['loft'], axis=1, inplace=True)\n",
    "df.drop(['apartment_block'], axis=1, inplace=True)\n",
    "df.drop(['ground_floor'], axis=1, inplace=True)\n",
    "df.drop(['country_cottage'], axis=1, inplace=True)\n",
    "df.drop(['mansion'], axis=1, inplace=True)\n",
    "df.drop(['penthouse'], axis=1, inplace=True)\n",
    "df.drop(['exceptional_property'], axis=1, inplace=True)\n",
    "df.drop(['manor_house'], axis=1, inplace=True)\n",
    "df.drop(['service_flat'], axis=1, inplace=True)\n",
    "df.drop(['chalet'], axis=1, inplace=True)\n",
    "df.drop(['CD_MUNTY_REFNIS'], axis=1, inplace=True)\n",
    "\n",
    "#df.drop(['surfaceoftheplot'], axis=1, inplace=True)\n"
   ]
  },
  {
   "cell_type": "code",
   "execution_count": 82,
   "metadata": {},
   "outputs": [],
   "source": [
    "\n",
    "#df = pd.get_dummies(df, columns=['municipality_code'], drop_first=False)\n",
    "df = pd.get_dummies(df, columns=['postal_code'], drop_first=False)\n",
    "#df = pd.get_dummies(df, columns=['name'], drop_first=False)\n",
    "#df = pd.get_dummies(df, columns=['province'], drop_first=False)\n",
    "#df.drop(['postal_code'], axis=1, inplace=True)\n",
    "df.drop(['municipality_code'], axis=1, inplace=True)\n",
    "df.drop(['locality'], axis=1, inplace=True)\n",
    "df.drop(['province'], axis=1, inplace=True)"
   ]
  },
  {
   "cell_type": "code",
   "execution_count": 83,
   "metadata": {},
   "outputs": [
    {
     "data": {
      "text/plain": [
       "\"# Calculate Q1 (25th percentile) and Q3 (75th percentile) for relevant columns\\nQ1 = df[['bedrooms', 'price', 'livingarea', 'surfaceoftheplot', 'gardensurface']].quantile(0.05)\\nQ3 = df[['bedrooms', 'price', 'livingarea', 'surfaceoftheplot', 'gardensurface']].quantile(0.95)\\nIQR = Q3 - Q1\\n\\n# Define the outlier condition: values outside 1.5 * IQR\\noutliers_condition = ((df[['bedrooms', 'price', 'livingarea', 'surfaceoftheplot', 'gardensurface']] < (Q1 - 1.5 * IQR)) | \\n                      (df[['bedrooms', 'price', 'livingarea', 'surfaceoftheplot', 'gardensurface']] > (Q3 + 1.5 * IQR)))\\n\\n# Remove rows where any of the relevant columns contain outliers\\ndf = df[~outliers_condition.any(axis=1)]\\n\""
      ]
     },
     "execution_count": 83,
     "metadata": {},
     "output_type": "execute_result"
    }
   ],
   "source": [
    "'''# Calculate Q1 (25th percentile) and Q3 (75th percentile) for relevant columns\n",
    "Q1 = df[['bedrooms', 'price', 'livingarea', 'surfaceoftheplot', 'gardensurface']].quantile(0.05)\n",
    "Q3 = df[['bedrooms', 'price', 'livingarea', 'surfaceoftheplot', 'gardensurface']].quantile(0.95)\n",
    "IQR = Q3 - Q1\n",
    "\n",
    "# Define the outlier condition: values outside 1.5 * IQR\n",
    "outliers_condition = ((df[['bedrooms', 'price', 'livingarea', 'surfaceoftheplot', 'gardensurface']] < (Q1 - 1.5 * IQR)) | \n",
    "                      (df[['bedrooms', 'price', 'livingarea', 'surfaceoftheplot', 'gardensurface']] > (Q3 + 1.5 * IQR)))\n",
    "\n",
    "# Remove rows where any of the relevant columns contain outliers\n",
    "df = df[~outliers_condition.any(axis=1)]\n",
    "'''"
   ]
  },
  {
   "cell_type": "code",
   "execution_count": 84,
   "metadata": {},
   "outputs": [
    {
     "name": "stdout",
     "output_type": "stream",
     "text": [
      "Original DataFrame shape: (8841, 179)\n",
      "After ZSCORE DataFrame shape: (8592, 179)\n"
     ]
    }
   ],
   "source": [
    "\n",
    "from scipy.stats import zscore\n",
    "\n",
    "# Calculate Z-scores for numeric columns\n",
    "#z_scores = df[['bedrooms', 'price', 'livingarea', 'surfaceoftheplot', 'gardensurface', 'facades']].apply(zscore)\n",
    "z_scores = df[['price', 'livingarea']].apply(zscore)\n",
    "# Define a threshold for Z-scores (e.g., 3)\n",
    "threshold = 3\n",
    "print(f\"Original DataFrame shape: {df.shape}\")\n",
    "# Filter the dataframe, keeping only the rows where all Z-scores are below the threshold\n",
    "df = df[(z_scores < threshold).all(axis=1)]\n",
    "print(f\"After ZSCORE DataFrame shape: {df.shape}\")"
   ]
  },
  {
   "cell_type": "code",
   "execution_count": 85,
   "metadata": {},
   "outputs": [
    {
     "name": "stdout",
     "output_type": "stream",
     "text": [
      "Training set size: 6873 samples\n",
      "Test set size: 1719 samples\n"
     ]
    }
   ],
   "source": [
    "from sklearn.model_selection import train_test_split\n",
    "\n",
    "X = df.drop('price', axis=1)  # Features (all columns except 'price')\n",
    "y = df['price']  # Target variable (price)\n",
    "\n",
    "# Split the data into training and testing sets (80% train, 20% test)\n",
    "X_train, X_test, y_train, y_test = train_test_split(X, y, test_size=0.2, random_state=42)\n",
    "\n",
    "# Combine features and target back into DataFrames for X_train and X_test\n",
    "df_train = X_train.copy()\n",
    "df_train['price'] = y_train\n",
    "\n",
    "df_test = X_test.copy()\n",
    "df_test['price'] = y_test\n",
    "\n",
    "# Check the shape of the splits\n",
    "print(f\"Training set size: {df_train.shape[0]} samples\")\n",
    "print(f\"Test set size: {df_test.shape[0]} samples\")\n"
   ]
  },
  {
   "cell_type": "code",
   "execution_count": 86,
   "metadata": {},
   "outputs": [
    {
     "data": {
      "text/plain": [
       "'from sklearn.model_selection import train_test_split\\nfrom sklearn.preprocessing import StandardScaler\\n\\n# Splitting the data\\nX_train, X_test, y_train, y_test = train_test_split(X, y, test_size=0.2, random_state=42)\\n\\n# Standardizing the data\\nscaler = StandardScaler()\\nX_train = scaler.fit_transform(X_train)  # Fit and transform on the training set\\nX_test = scaler.transform(X_test)       # Only transform the test set\\n'"
      ]
     },
     "execution_count": 86,
     "metadata": {},
     "output_type": "execute_result"
    }
   ],
   "source": [
    "'''from sklearn.model_selection import train_test_split\n",
    "from sklearn.preprocessing import StandardScaler\n",
    "\n",
    "# Splitting the data\n",
    "X_train, X_test, y_train, y_test = train_test_split(X, y, test_size=0.2, random_state=42)\n",
    "\n",
    "# Standardizing the data\n",
    "scaler = StandardScaler()\n",
    "X_train = scaler.fit_transform(X_train)  # Fit and transform on the training set\n",
    "X_test = scaler.transform(X_test)       # Only transform the test set\n",
    "'''"
   ]
  },
  {
   "cell_type": "code",
   "execution_count": 87,
   "metadata": {},
   "outputs": [
    {
     "name": "stdout",
     "output_type": "stream",
     "text": [
      "Mean Squared Error: 0.15\n",
      "R-squared: 0.61\n"
     ]
    }
   ],
   "source": [
    "# Import necessary libraries\n",
    "from sklearn.tree import DecisionTreeRegressor\n",
    "from sklearn.metrics import mean_squared_error, r2_score\n",
    "\n",
    "# Initialize the DecisionTreeRegressor model\n",
    "model = DecisionTreeRegressor(random_state=42)\n",
    "\n",
    "# Train the model using the training data\n",
    "model.fit(X_train, y_train)\n",
    "\n",
    "# Make predictions on the test set\n",
    "y_pred = model.predict(X_test)\n",
    "\n",
    "# Evaluate the model\n",
    "mse = mean_squared_error(y_test, y_pred)\n",
    "r2 = r2_score(y_test, y_pred)\n",
    "\n",
    "# Print the results\n",
    "print(f\"Mean Squared Error: {mse:.2f}\")\n",
    "print(f\"R-squared: {r2:.2f}\")\n"
   ]
  },
  {
   "cell_type": "code",
   "execution_count": 88,
   "metadata": {},
   "outputs": [
    {
     "name": "stdout",
     "output_type": "stream",
     "text": [
      "Feature importances:\n",
      "livingarea: 0.4084\n",
      "Average_Income_Per_Citizen: 0.2763\n",
      "surfaceoftheplot: 0.0492\n",
      "bedrooms: 0.0356\n",
      "as_new: 0.0211\n",
      "postal_code_1180: 0.0196\n",
      "terrace: 0.0125\n",
      "is_apartment: 0.0122\n",
      "postal_code_8300: 0.0122\n",
      "gardensurface: 0.0121\n",
      "kitchen: 0.0113\n",
      "facades: 0.0101\n",
      "postal_code_1150: 0.0099\n",
      "good: 0.0077\n",
      "just_renovated: 0.0064\n",
      "furnished: 0.0059\n",
      "to_be_done_up: 0.0049\n",
      "postal_code_9000: 0.0045\n",
      "is_house: 0.0044\n",
      "to_renovate: 0.0036\n",
      "postal_code_8000: 0.0033\n",
      "postal_code_1000: 0.0031\n",
      "postal_code_1050: 0.0028\n",
      "postal_code_8620: 0.0027\n",
      "postal_code_1200: 0.0027\n",
      "garden: 0.0027\n",
      "postal_code_2000: 0.0027\n",
      "postal_code_1160: 0.0026\n",
      "postal_code_8380: 0.0024\n",
      "fireplace: 0.0024\n",
      "postal_code_3000: 0.0022\n",
      "postal_code_1640: 0.0018\n",
      "postal_code_2900: 0.0017\n",
      "postal_code_8400: 0.0015\n",
      "postal_code_9280: 0.0015\n",
      "postal_code_8660: 0.0015\n",
      "postal_code_8870: 0.0015\n",
      "postal_code_2650: 0.0012\n",
      "postal_code_8800: 0.0012\n",
      "postal_code_1170: 0.0012\n",
      "postal_code_9800: 0.0011\n",
      "postal_code_2018: 0.0011\n",
      "pool: 0.0011\n",
      "postal_code_1040: 0.0009\n",
      "postal_code_8020: 0.0009\n",
      "postal_code_1970: 0.0009\n",
      "postal_code_2600: 0.0009\n",
      "postal_code_1950: 0.0007\n",
      "postal_code_8420: 0.0007\n",
      "postal_code_2610: 0.0006\n",
      "postal_code_8430: 0.0006\n",
      "postal_code_8301: 0.0006\n",
      "postal_code_1790: 0.0006\n",
      "postal_code_3500: 0.0006\n",
      "postal_code_2930: 0.0005\n",
      "postal_code_2300: 0.0005\n",
      "postal_code_9620: 0.0005\n",
      "postal_code_8370: 0.0005\n",
      "postal_code_2960: 0.0005\n",
      "postal_code_9031: 0.0004\n",
      "postal_code_9700: 0.0004\n",
      "postal_code_3800: 0.0004\n",
      "postal_code_1650: 0.0004\n",
      "postal_code_9820: 0.0004\n",
      "postal_code_2800: 0.0004\n",
      "postal_code_9220: 0.0004\n",
      "postal_code_8500: 0.0004\n",
      "postal_code_8680: 0.0004\n",
      "postal_code_1190: 0.0004\n",
      "postal_code_9032: 0.0003\n",
      "postal_code_9300: 0.0003\n",
      "postal_code_4000: 0.0003\n",
      "postal_code_1060: 0.0003\n",
      "postal_code_2050: 0.0003\n",
      "postal_code_8670: 0.0003\n",
      "postal_code_1030: 0.0003\n",
      "postal_code_9200: 0.0003\n",
      "postal_code_8530: 0.0003\n",
      "postal_code_1800: 0.0003\n",
      "postal_code_2830: 0.0003\n",
      "postal_code_2500: 0.0002\n",
      "postal_code_1082: 0.0002\n",
      "postal_code_1090: 0.0002\n",
      "postal_code_9600: 0.0002\n",
      "postal_code_1083: 0.0002\n",
      "postal_code_8700: 0.0002\n",
      "postal_code_1780: 0.0002\n",
      "postal_code_2100: 0.0002\n",
      "postal_code_2880: 0.0002\n",
      "postal_code_9100: 0.0002\n",
      "postal_code_2950: 0.0002\n",
      "postal_code_9450: 0.0002\n",
      "postal_code_8434: 0.0002\n",
      "postal_code_2850: 0.0002\n",
      "postal_code_1020: 0.0002\n",
      "postal_code_9630: 0.0002\n",
      "postal_code_2060: 0.0002\n",
      "postal_code_8450: 0.0002\n",
      "postal_code_9051: 0.0001\n",
      "postal_code_9400: 0.0001\n",
      "postal_code_3300: 0.0001\n",
      "postal_code_4020: 0.0001\n",
      "postal_code_1600: 0.0001\n",
      "postal_code_4400: 0.0001\n",
      "postal_code_9500: 0.0001\n",
      "postal_code_9340: 0.0001\n",
      "postal_code_8790: 0.0001\n",
      "postal_code_6700: 0.0001\n",
      "postal_code_9050: 0.0001\n",
      "postal_code_1850: 0.0001\n",
      "postal_code_1700: 0.0001\n",
      "postal_code_4500: 0.0001\n",
      "postal_code_1140: 0.0001\n",
      "postal_code_4100: 0.0001\n",
      "postal_code_8200: 0.0001\n",
      "postal_code_9550: 0.0001\n",
      "postal_code_4030: 0.0001\n",
      "postal_code_2170: 0.0001\n",
      "postal_code_2360: 0.0001\n",
      "postal_code_9940: 0.0001\n",
      "postal_code_1500: 0.0001\n",
      "postal_code_2200: 0.0001\n",
      "postal_code_1070: 0.0001\n",
      "postal_code_9900: 0.0001\n",
      "postal_code_1410: 0.0001\n",
      "postal_code_8770: 0.0001\n",
      "postal_code_1853: 0.0001\n",
      "postal_code_9990: 0.0001\n",
      "postal_code_2640: 0.0001\n",
      "postal_code_1731: 0.0001\n",
      "postal_code_9230: 0.0001\n",
      "postal_code_8501: 0.0001\n",
      "postal_code_2890: 0.0001\n",
      "postal_code_9120: 0.0001\n",
      "postal_code_2980: 0.0001\n",
      "postal_code_3090: 0.0001\n",
      "postal_code_1420: 0.0001\n",
      "postal_code_8310: 0.0001\n",
      "postal_code_9660: 0.0000\n",
      "postal_code_9255: 0.0000\n",
      "postal_code_3020: 0.0000\n",
      "postal_code_8820: 0.0000\n",
      "postal_code_9060: 0.0000\n",
      "postal_code_2660: 0.0000\n",
      "postal_code_9860: 0.0000\n",
      "postal_code_2020: 0.0000\n",
      "postal_code_1730: 0.0000\n",
      "postal_code_4420: 0.0000\n",
      "postal_code_8510: 0.0000\n",
      "postal_code_9880: 0.0000\n",
      "postal_code_1080: 0.0000\n",
      "postal_code_2140: 0.0000\n",
      "postal_code_1300: 0.0000\n",
      "postal_code_1400: 0.0000\n",
      "postal_code_1840: 0.0000\n",
      "postal_code_3140: 0.0000\n",
      "postal_code_9040: 0.0000\n",
      "postal_code_9320: 0.0000\n",
      "postal_code_9310: 0.0000\n",
      "postal_code_1120: 0.0000\n",
      "postal_code_4040: 0.0000\n",
      "postal_code_9470: 0.0000\n",
      "postal_code_9140: 0.0000\n",
      "postal_code_8540: 0.0000\n",
      "postal_code_8600: 0.0000\n",
      "postal_code_2550: 0.0000\n",
      "postal_code_9890: 0.0000\n",
      "postal_code_9070: 0.0000\n",
      "postal_code_8210: 0.0000\n",
      "postal_code_2970: 0.0000\n",
      "postal_code_2570: 0.0000\n",
      "postal_code_9160: 0.0000\n",
      "postal_code_2870: 0.0000\n",
      "postal_code_2940: 0.0000\n",
      "postal_code_9420: 0.0000\n",
      "postal_code_2440: 0.0000\n",
      "postal_code_1770: 0.0000\n",
      "to_restore: 0.0000\n"
     ]
    }
   ],
   "source": [
    "# Get feature importances\n",
    "feature_importances = model.feature_importances_\n",
    "\n",
    "# Sort and display the features by importance\n",
    "important_features = sorted(zip(X_train.columns, feature_importances), key=lambda x: x[1], reverse=True)\n",
    "print(\"Feature importances:\")\n",
    "for feature, importance in important_features:\n",
    "    print(f\"{feature}: {importance:.4f}\")\n"
   ]
  },
  {
   "cell_type": "code",
   "execution_count": 89,
   "metadata": {},
   "outputs": [
    {
     "name": "stdout",
     "output_type": "stream",
     "text": [
      "Mean Squared Error: 0.10\n",
      "R-squared: 0.74\n"
     ]
    }
   ],
   "source": [
    "# Import necessary libraries\n",
    "from sklearn.ensemble import RandomForestRegressor\n",
    "from sklearn.metrics import mean_squared_error, r2_score\n",
    "\n",
    "# Initialize the RandomForestRegressor model\n",
    "model = RandomForestRegressor(random_state=42, n_estimators=100)  # You can adjust n_estimators as needed\n",
    "\n",
    "# Train the model using the training data\n",
    "model.fit(X_train, y_train)\n",
    "\n",
    "# Make predictions on the test set\n",
    "y_pred = model.predict(X_test)\n",
    "\n",
    "# Evaluate the model\n",
    "mse = mean_squared_error(y_test, y_pred)\n",
    "r2 = r2_score(y_test, y_pred)\n",
    "\n",
    "# Print the results\n",
    "print(f\"Mean Squared Error: {mse:.2f}\")\n",
    "print(f\"R-squared: {r2:.2f}\")\n"
   ]
  },
  {
   "cell_type": "code",
   "execution_count": 90,
   "metadata": {},
   "outputs": [
    {
     "name": "stdout",
     "output_type": "stream",
     "text": [
      "livingarea: 0.4129\n",
      "Average_Income_Per_Citizen: 0.2764\n",
      "surfaceoftheplot: 0.0483\n",
      "bedrooms: 0.0338\n",
      "as_new: 0.0191\n",
      "postal_code_1180: 0.0172\n",
      "is_apartment: 0.0146\n",
      "facades: 0.0131\n",
      "postal_code_8300: 0.0122\n",
      "gardensurface: 0.0111\n",
      "kitchen: 0.0105\n",
      "terrace: 0.0105\n",
      "good: 0.0086\n",
      "postal_code_1150: 0.0082\n",
      "just_renovated: 0.0058\n",
      "furnished: 0.0057\n",
      "postal_code_2000: 0.0051\n",
      "postal_code_9000: 0.0048\n",
      "to_renovate: 0.0042\n",
      "to_be_done_up: 0.0040\n",
      "postal_code_1050: 0.0038\n",
      "is_house: 0.0029\n",
      "pool: 0.0027\n",
      "postal_code_1000: 0.0027\n",
      "postal_code_8620: 0.0025\n",
      "postal_code_1200: 0.0025\n",
      "postal_code_8380: 0.0024\n",
      "postal_code_8000: 0.0024\n",
      "garden: 0.0023\n",
      "postal_code_3000: 0.0022\n",
      "postal_code_1950: 0.0021\n",
      "postal_code_8400: 0.0020\n",
      "fireplace: 0.0020\n",
      "postal_code_8420: 0.0019\n",
      "postal_code_1160: 0.0018\n",
      "postal_code_8301: 0.0017\n",
      "postal_code_8660: 0.0012\n",
      "postal_code_2900: 0.0012\n",
      "postal_code_1040: 0.0011\n",
      "postal_code_2018: 0.0010\n",
      "postal_code_2930: 0.0009\n",
      "postal_code_1780: 0.0008\n",
      "postal_code_8800: 0.0008\n",
      "postal_code_8870: 0.0008\n",
      "postal_code_1970: 0.0008\n",
      "postal_code_2600: 0.0008\n",
      "postal_code_9700: 0.0008\n",
      "postal_code_2650: 0.0007\n",
      "postal_code_1170: 0.0007\n",
      "postal_code_3500: 0.0007\n",
      "postal_code_9800: 0.0007\n",
      "postal_code_8370: 0.0007\n",
      "postal_code_4000: 0.0006\n",
      "postal_code_8430: 0.0006\n",
      "postal_code_2610: 0.0005\n",
      "postal_code_9200: 0.0005\n",
      "postal_code_2300: 0.0005\n",
      "postal_code_2500: 0.0005\n",
      "postal_code_9620: 0.0004\n",
      "postal_code_9300: 0.0004\n",
      "postal_code_1640: 0.0004\n",
      "postal_code_2800: 0.0004\n",
      "postal_code_1850: 0.0004\n",
      "postal_code_3800: 0.0004\n",
      "postal_code_9600: 0.0003\n",
      "postal_code_8020: 0.0003\n",
      "postal_code_9280: 0.0003\n",
      "postal_code_8530: 0.0003\n",
      "postal_code_1030: 0.0003\n",
      "postal_code_8200: 0.0003\n",
      "postal_code_9500: 0.0003\n",
      "postal_code_8670: 0.0003\n",
      "postal_code_8500: 0.0003\n",
      "postal_code_9050: 0.0003\n",
      "postal_code_9051: 0.0003\n",
      "postal_code_8510: 0.0003\n",
      "postal_code_2960: 0.0003\n",
      "postal_code_4020: 0.0002\n",
      "postal_code_9031: 0.0002\n",
      "postal_code_2440: 0.0002\n",
      "postal_code_2970: 0.0002\n",
      "postal_code_4500: 0.0002\n",
      "postal_code_1140: 0.0002\n",
      "postal_code_1500: 0.0002\n",
      "postal_code_8310: 0.0002\n",
      "postal_code_1700: 0.0002\n",
      "postal_code_2050: 0.0002\n",
      "postal_code_2830: 0.0002\n",
      "postal_code_2100: 0.0002\n",
      "postal_code_9220: 0.0002\n",
      "postal_code_9340: 0.0002\n",
      "postal_code_1190: 0.0002\n",
      "postal_code_8450: 0.0002\n",
      "postal_code_9990: 0.0002\n",
      "postal_code_1650: 0.0002\n",
      "postal_code_9032: 0.0002\n",
      "postal_code_3020: 0.0002\n",
      "postal_code_2170: 0.0002\n",
      "postal_code_9900: 0.0002\n",
      "postal_code_1800: 0.0002\n",
      "postal_code_8501: 0.0002\n",
      "postal_code_1060: 0.0002\n",
      "postal_code_8600: 0.0002\n",
      "postal_code_1840: 0.0002\n",
      "postal_code_9940: 0.0002\n",
      "postal_code_2060: 0.0002\n",
      "postal_code_1083: 0.0002\n",
      "postal_code_9550: 0.0002\n",
      "postal_code_4100: 0.0002\n",
      "postal_code_8680: 0.0002\n",
      "postal_code_9070: 0.0002\n",
      "postal_code_3300: 0.0002\n",
      "postal_code_8434: 0.0002\n",
      "postal_code_1600: 0.0002\n",
      "postal_code_1020: 0.0001\n",
      "postal_code_8700: 0.0001\n",
      "postal_code_3140: 0.0001\n",
      "postal_code_1070: 0.0001\n",
      "postal_code_9420: 0.0001\n",
      "postal_code_2360: 0.0001\n",
      "postal_code_1090: 0.0001\n",
      "postal_code_9230: 0.0001\n",
      "postal_code_9820: 0.0001\n",
      "postal_code_8790: 0.0001\n",
      "postal_code_9120: 0.0001\n",
      "postal_code_1410: 0.0001\n",
      "postal_code_8210: 0.0001\n",
      "postal_code_6700: 0.0001\n",
      "postal_code_9400: 0.0001\n",
      "postal_code_9630: 0.0001\n",
      "postal_code_1731: 0.0001\n",
      "postal_code_9160: 0.0001\n",
      "postal_code_4040: 0.0001\n",
      "postal_code_9860: 0.0001\n",
      "postal_code_4400: 0.0001\n",
      "postal_code_2020: 0.0001\n",
      "postal_code_1082: 0.0001\n",
      "postal_code_2660: 0.0001\n",
      "postal_code_2950: 0.0001\n",
      "postal_code_9255: 0.0001\n",
      "postal_code_2200: 0.0001\n",
      "postal_code_8820: 0.0001\n",
      "postal_code_9450: 0.0001\n",
      "postal_code_1853: 0.0001\n",
      "postal_code_4030: 0.0001\n",
      "postal_code_9880: 0.0001\n",
      "postal_code_9100: 0.0001\n",
      "postal_code_9890: 0.0001\n",
      "postal_code_4420: 0.0001\n",
      "postal_code_2140: 0.0001\n",
      "postal_code_2940: 0.0001\n",
      "postal_code_2570: 0.0001\n",
      "postal_code_9310: 0.0001\n",
      "postal_code_1080: 0.0001\n",
      "postal_code_1730: 0.0001\n",
      "postal_code_2980: 0.0001\n",
      "postal_code_2850: 0.0001\n",
      "postal_code_2640: 0.0001\n",
      "postal_code_9140: 0.0001\n",
      "postal_code_1300: 0.0001\n",
      "postal_code_1790: 0.0001\n",
      "postal_code_2880: 0.0001\n",
      "postal_code_1770: 0.0001\n",
      "postal_code_9040: 0.0001\n",
      "postal_code_8770: 0.0001\n",
      "postal_code_1420: 0.0001\n",
      "postal_code_8540: 0.0001\n",
      "postal_code_1400: 0.0001\n",
      "postal_code_9060: 0.0001\n",
      "postal_code_2550: 0.0001\n",
      "postal_code_2870: 0.0001\n",
      "postal_code_3090: 0.0001\n",
      "postal_code_9660: 0.0001\n",
      "postal_code_9320: 0.0000\n",
      "to_restore: 0.0000\n",
      "postal_code_2890: 0.0000\n",
      "postal_code_1120: 0.0000\n",
      "postal_code_9470: 0.0000\n"
     ]
    }
   ],
   "source": [
    "# Get feature importances\n",
    "feature_importances = model.feature_importances_\n",
    "\n",
    "# Print feature importances in descending order\n",
    "for feature, importance in sorted(zip(X_train.columns, feature_importances), key=lambda x: x[1], reverse=True):\n",
    "    print(f\"{feature}: {importance:.4f}\")\n"
   ]
  },
  {
   "cell_type": "code",
   "execution_count": 91,
   "metadata": {},
   "outputs": [
    {
     "data": {
      "text/plain": [
       "'import matplotlib.pyplot as plt\\nimport seaborn as sns\\n\\n# Create a bar plot of feature importances\\nsns.barplot(x=feature_importances, y=X_train.columns)\\nplt.title(\"Feature Importances\")\\nplt.xlabel(\"Importance\")\\nplt.ylabel(\"Feature\")\\nplt.show()\\n'"
      ]
     },
     "execution_count": 91,
     "metadata": {},
     "output_type": "execute_result"
    }
   ],
   "source": [
    "'''import matplotlib.pyplot as plt\n",
    "import seaborn as sns\n",
    "\n",
    "# Create a bar plot of feature importances\n",
    "sns.barplot(x=feature_importances, y=X_train.columns)\n",
    "plt.title(\"Feature Importances\")\n",
    "plt.xlabel(\"Importance\")\n",
    "plt.ylabel(\"Feature\")\n",
    "plt.show()\n",
    "'''"
   ]
  },
  {
   "cell_type": "code",
   "execution_count": 92,
   "metadata": {},
   "outputs": [
    {
     "data": {
      "text/plain": [
       "'# Import necessary libraries\\nfrom sklearn.tree import DecisionTreeRegressor, plot_tree\\nimport matplotlib.pyplot as plt\\nfrom sklearn.metrics import mean_squared_error, r2_score\\n\\n# Initialize the DecisionTreeRegressor model\\nmodel = DecisionTreeRegressor(random_state=42)\\n\\n# Train the model using the training data\\nmodel.fit(X_train, y_train)\\n\\n# Make predictions on the test set\\ny_pred = model.predict(X_test)\\n\\n# Evaluate the model\\nmse = mean_squared_error(y_test, y_pred)\\nr2 = r2_score(y_test, y_pred)\\n\\n# Print the results\\nprint(f\"Mean Squared Error: {mse:.2f}\")\\nprint(f\"R-squared: {r2:.2f}\")\\n\\n# Visualize the decision tree\\nplt.figure(figsize=(200, 100))  # Adjust the size to your preference\\nplot_tree(model, filled=True, feature_names=X_train.columns, rounded=True)\\nplt.show()\\n'"
      ]
     },
     "execution_count": 92,
     "metadata": {},
     "output_type": "execute_result"
    }
   ],
   "source": [
    "'''# Import necessary libraries\n",
    "from sklearn.tree import DecisionTreeRegressor, plot_tree\n",
    "import matplotlib.pyplot as plt\n",
    "from sklearn.metrics import mean_squared_error, r2_score\n",
    "\n",
    "# Initialize the DecisionTreeRegressor model\n",
    "model = DecisionTreeRegressor(random_state=42)\n",
    "\n",
    "# Train the model using the training data\n",
    "model.fit(X_train, y_train)\n",
    "\n",
    "# Make predictions on the test set\n",
    "y_pred = model.predict(X_test)\n",
    "\n",
    "# Evaluate the model\n",
    "mse = mean_squared_error(y_test, y_pred)\n",
    "r2 = r2_score(y_test, y_pred)\n",
    "\n",
    "# Print the results\n",
    "print(f\"Mean Squared Error: {mse:.2f}\")\n",
    "print(f\"R-squared: {r2:.2f}\")\n",
    "\n",
    "# Visualize the decision tree\n",
    "plt.figure(figsize=(200, 100))  # Adjust the size to your preference\n",
    "plot_tree(model, filled=True, feature_names=X_train.columns, rounded=True)\n",
    "plt.show()\n",
    "'''"
   ]
  },
  {
   "cell_type": "code",
   "execution_count": null,
   "metadata": {},
   "outputs": [],
   "source": []
  }
 ],
 "metadata": {
  "kernelspec": {
   "display_name": "base",
   "language": "python",
   "name": "python3"
  },
  "language_info": {
   "codemirror_mode": {
    "name": "ipython",
    "version": 3
   },
   "file_extension": ".py",
   "mimetype": "text/x-python",
   "name": "python",
   "nbconvert_exporter": "python",
   "pygments_lexer": "ipython3",
   "version": "3.12.4"
  }
 },
 "nbformat": 4,
 "nbformat_minor": 2
}
